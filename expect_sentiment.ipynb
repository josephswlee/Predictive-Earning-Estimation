{
  "nbformat": 4,
  "nbformat_minor": 0,
  "metadata": {
    "colab": {
      "name": "Untitled0.ipynb",
      "provenance": [],
      "authorship_tag": "ABX9TyNgAcvD4XCA+b4BWbNZ5gWa",
      "include_colab_link": true
    },
    "kernelspec": {
      "name": "python3",
      "display_name": "Python 3"
    },
    "language_info": {
      "name": "python"
    }
  },
  "cells": [
    {
      "cell_type": "markdown",
      "metadata": {
        "id": "view-in-github",
        "colab_type": "text"
      },
      "source": [
        "<a href=\"https://colab.research.google.com/github/josephswlee/Predictive-Earning-Estimation/blob/main/expect_sentiment.ipynb\" target=\"_parent\"><img src=\"https://colab.research.google.com/assets/colab-badge.svg\" alt=\"Open In Colab\"/></a>"
      ]
    },
    {
      "cell_type": "code",
      "source": [
        "#pip install -U textblob"
      ],
      "metadata": {
        "id": "VgaxwMdtvxx7"
      },
      "execution_count": null,
      "outputs": []
    },
    {
      "cell_type": "code",
      "execution_count": null,
      "metadata": {
        "id": "SWJXPSMbrTYs"
      },
      "outputs": [],
      "source": [
        "\n",
        "from textblob import TextBlob\n",
        "import numpy as np\n",
        "import requests\n",
        "import pandas as pd \n",
        "import nltk \n",
        "\n",
        "nltk.download('punkt')\n",
        "\n",
        "\n",
        "WWW = 'WWW'\n",
        "TSLA = 'TSLA'\n",
        "XOM = 'XOM'\n",
        "CAKE = 'CAKE'\n",
        "\n",
        "transcript = requests.get(f'https://financialmodelingprep.com/api/v3/earning_call_transcript/{CAKE}?quarter=1&year=2015&apikey=ec9d29f143d5a1cf9ee6c5a2232736f9').json()\n",
        "\n",
        "\n",
        "\n",
        "\n"
      ]
    },
    {
      "cell_type": "code",
      "source": [
        "print(transcript)"
      ],
      "metadata": {
        "id": "ZPmYHrHEOoYS"
      },
      "execution_count": null,
      "outputs": []
    },
    {
      "cell_type": "code",
      "source": [
        "transcript = transcript[0]['content'].split('\\n')\n"
      ],
      "metadata": {
        "id": "6LTcAwP-OEY9"
      },
      "execution_count": 102,
      "outputs": []
    },
    {
      "cell_type": "code",
      "source": [
        "earnings_call = pd.DataFrame(transcript,columns=['content'])\n",
        "\n",
        "earnings_call"
      ],
      "metadata": {
        "id": "uNhrrbp2QTfb"
      },
      "execution_count": null,
      "outputs": []
    },
    {
      "cell_type": "code",
      "source": [
        "words_to_analyze = 'expect'\n",
        "\n",
        "analysis = earnings_call[earnings_call['content'].str.contains(words_to_analyze)]\n",
        "expect_text = analysis['content'].values\n",
        "\n",
        "for text in expect_text: \n",
        "  for phrases in text.split(\". \"):\n",
        "    if words_to_analyze in phrases: \n",
        "      print(phrases)\n"
      ],
      "metadata": {
        "id": "UXDFeksHrT7J"
      },
      "execution_count": null,
      "outputs": []
    },
    {
      "cell_type": "code",
      "source": [
        "print(expect_text)"
      ],
      "metadata": {
        "id": "YuCwod85TMqn"
      },
      "execution_count": null,
      "outputs": []
    },
    {
      "cell_type": "code",
      "source": [
        "sentiment_Call = TextBlob(str(expect_text))\n",
        "\n",
        "print(sentiment_Call.sentiment)\n"
      ],
      "metadata": {
        "colab": {
          "base_uri": "https://localhost:8080/"
        },
        "id": "mMirW6S8Q60b",
        "outputId": "00631075-f47d-4ce5-da10-6e1e2008150f"
      },
      "execution_count": 105,
      "outputs": [
        {
          "output_type": "stream",
          "name": "stdout",
          "text": [
            "Sentiment(polarity=0.09889209860692742, subjectivity=0.31729434486088476)\n"
          ]
        }
      ]
    },
    {
      "cell_type": "code",
      "source": [
        "print(sentiment_Call.sentences)"
      ],
      "metadata": {
        "colab": {
          "base_uri": "https://localhost:8080/"
        },
        "id": "xSUBWah1RFKj",
        "outputId": "892dd9e9-98a7-4b14-b154-ed190450b28d"
      },
      "execution_count": 51,
      "outputs": [
        {
          "output_type": "stream",
          "name": "stdout",
          "text": [
            "[Sentence(\"[\"Blake W. Krueger: Thanks, Chris.\"), Sentence(\"Good morning, everyone, and thanks for joining us.\"), Sentence(\"Earlier this morning, we reported our third quarter results highlighted by solid earnings in line with our original guidance.\"), Sentence(\"This performance is reflective of the high and consistent quality of our earnings engine, the power of our diversified brand portfolio, and the disciplined manner with which we operate our business.\"), Sentence(\"In spite of the current global retail environment, which continues to be choppy, our consolidated business and two of our three brand operating groups generated adjusted revenue growth during the quarter, excluding the impact of currency, the Patagonia Footwear exit and store closures as applicable.\"), Sentence(\"Mike and I will refer to adjusted revenue in this context in our remarks.\"), Sentence(\"But we'll also provide corresponding reported revenue figures.\"), Sentence(\"In step with our previously announced demand creation investment strategy, our quarterly marketing investment increased approximately 26% to support the long-term health and vitality of our brands.\"), Sentence(\"We remain committed to investing behind our brands and plan to accelerate revenue growth through product innovation, and deeper and more insightful consumer connections, all supported by a strong operational platform and our extensive global distribution footprint.\"), Sentence(\"For today's call, I'll cover our consolidated and brand operating group results, speak to some of the headwinds in the global marketplace, and then focus on key brand performances and related strategic updates for the quarter, specifically, the Stride Rite, Sperry and Merrell brands.\"), Sentence(\"Beginning with consolidated results.\"), Sentence(\"Adjusted revenue grew 0.7% versus the prior year, and reported revenue was $676.9 million (sic) [$678.9 million] (4:16), a 4.5% decrease year-over-year.\"), Sentence(\"We delivered adjusted diluted earnings per share of $0.48 for the quarter, in line with our original guidance and achieved strong gross margins across the portfolio, while effectively managing discretionary SG&A, which was only partially offset by the increased marketing investments behind our brand.\"), Sentence(\"Focusing in on the brand operating group performance, starting with the Performance Group.\"), Sentence(\"Adjusted revenue grew 3.8% with Chaco posting exceptionally strong double-digit growth, Merrell generating low single-digit growth, and Saucony contributing mid-single digit growth in the quarter.\"), Sentence(\"Adjusted revenue for the Lifestyle Group was down 5.1% with Sperry down less than 1%, Keds down low single digits, and Stride Rite down high single digits.\"), Sentence(\"Hush Puppies saw a constant currency low-teens decline, due primarily to our decision to realign our domestic distribution strategy.\"), Sentence(\"The brand's international licensee business remains strong with revenue up double digits.\"), Sentence(\"Concluding with the Heritage Group, adjusted revenue grew 2.9% with Cat delivering mid-single digit growth, Wolverine producing low single digit growth, HYTEST growing at a solid double-digit pace, Bates down less than 1%, and Harley-Davidson down high-single digit.\"), Sentence(\"Mike will provide additional detail regarding our financial results in a few minutes.\"), Sentence(\"So, now let me share our perspective on the global macroeconomic environment, which impacted our results in the third quarter and is expected to continue into the near future.\"), Sentence(\"Heading into the back half of the year, we identified and planned for a variety of global macroeconomic challenges, many of which persisted and some of which became more challenging relative to our prior expectations.\"), Sentence(\"Although many of our key global markets have performed well, a number of others are exhibiting some stress for a variety of different reasons.\"), Sentence(\"In many international markets, the strong U.S. dollars put pressure on the cost of footwear and the ultimate retail price to consumers as most of the world purchases shoes in U.S. dollars.\"), Sentence(\"This, in turn, has and will continue to drive up the retail prices of footwear in many markets.\"), Sentence(\"Earlier this year, we chose the proactive path to protect gross margin by selectively increasing prices in our own international markets.\"), Sentence(\"We believe this action was appropriate for the long-term health of our brands and business, realizing it to put some pressure on revenue growth in the short term.\"), Sentence(\"In addition to currency, one of the biggest stories over the last several months has been softer global demand across many industries including consumer soft goods.\"), Sentence(\"This, in turn, is reflected in the economic challenges in China and its manufacturing slowdown.\"), Sentence(\"This has taken a toll on countries with commodity-based economies.\"), Sentence(\"For our business, a couple of examples of countries impacted by declining commodity prices are Russia and Canada, both of which have seen declining GDP this year.\"), Sentence(\"Although, not commodity-dependent and faring better, Europe has not been immune to the economic and consumer uncertainty and is still struggling to deliver economic growth above 2%.\"), Sentence(\"In the United States, while the economy has remained on relatively stable footings through the first half of the year, traffic trends at retail have remained soft.\"), Sentence(\"Consumers' sentiment has eroded somewhat in recent month and unseasonably warm weather appears to have stunted early fall shopping.\"), Sentence(\"We believe that inventories at retail have been building through the year, resulting in tight open-to-buy and a more cautious stance by retailers ahead of the critical holiday shopping season.\"), Sentence(\"A combination of these factors across numerous markets around the world resulted in a tougher demand environment, especially late in the third quarter, and we believe that it's prudent to expect many of these factors to persist in the fourth quarter and the first half of 2016.\"), Sentence(\"This has caused us, along with others in and outside of our industry to temper the near-term outlook.\"), Sentence(\"While we have a strong brand portfolio and a resilient business model, we expect the short-term environment to remain status quo.\"), Sentence(\"The obvious question is how we are adjusting to the current global realities.\"), Sentence(\"Over the past year, we have strategically and tactically adjusted to this dynamic environment in a number of different ways.\"), Sentence(\"Specifically, our inventory is high quality and it's as clean as it has been in several years.\"), Sentence(\"We are narrow and deep in core styles and collections, which puts us in a position to satisfy consumers and retail customers who are buying closer to need.\"), Sentence(\"Second, we have initiated actions across our brand portfolio to develop products to backfill price points that have been impacted by the stronger U.S. dollar.\"), Sentence(\"We have also critically reviewed the scope of our brick-and-mortar store fleet to align the number of stores with the changes in consumer, shopping behavior and the impact of digital, social and mobile technologies.\"), Sentence(\"The team has focused on forging stronger relationships with our customers through deep insights, compelling marketing and by creating a consistent omni-channel experience.\"), Sentence(\"And lastly, we have invested in our innovation and product creation engines to generate new offerings consistent with current consumer product preferences especially in the ath-leisure athletic category.\"), Sentence(\"We know that growth is dependent on offering the consumer a great brand experience and something that is unique beyond price and believe these initiatives will drive future growth and closer connections with our consumers.\"), Sentence(\"We expect that our business model will continue to generate strong free cash flow and a high quality earnings stream.\"), Sentence(\"I'll now focus on the key brand performances in the quarter and related strategic updates starting with Stride Rite.\"), Sentence(\"Stride Rite's exposure to the domestic brick-and-mortar store channel created the most significant challenge for the company in the third quarter.\"), Sentence(\"Sluggish macro retail traffic trends in an aggressive promotional environment presented some headwinds especially as we saw it to be less promotional.\"), Sentence(\"Although our store conversion improved, traffic declines persisted.\"), Sentence(\"Given the current retail environment in the trend in Stride Rite stores, we are taking action to refocus the Stride Rite business and update our Strategic Realignment Plan, which is focused on realigning our consumer direct priorities and resource allocation to fuel e-commerce, mobile and omni-channel initiatives.\"), Sentence(\"This plan, which was originally announced over a year ago, has proven to be the right direction.\"), Sentence(\"And we have decided to reevaluate the Stride Rite brick-and-mortar fleet with an even more critical eye.\"), Sentence(\"We plan to ensure optimal rationalization of our stores and to continue our investments in digital initiatives where we are seeing strong growth and great progress.\"), Sentence(\"This will all better align the brand with how the modern mom is shopping.\"), Sentence(\"At the same time, we intend to continue with our progress in thoughtfully expanding our wholesale distribution in conjunction with a strict product segmentation strategy to make the brand more accessible to consumers.\"), Sentence(\"We expect the result will be a healthier Stride Rite Children's Group, aligned with today's consumer, and poised to focus on the brand's best opportunities.\"), Sentence(\"Switching gears to Sperry.\"), Sentence(\"The Sperry business was essentially flat in the third quarter with adjusted revenue down less than 1%.\"), Sentence(\"This top line performance was softer than expected with most of the decline coming from the boat shoe category.\"), Sentence(\"However, the brand's product category expansion strategy has started to produce meaningful results to offset the women's fashion trend, cycling away from the boat shoes silhouette.\"), Sentence(\"Non-boat product categories contributed nearly half of the brand's total revenue in the quarter and delivered very strong double-digit growth, especially in vulcanized sneakers and boots.\"), Sentence(\"The brand also delivered a strong 380 basis point gross margin expansion in the quarter, a key initiative for us through select product price increases and the benefits from the Odysseys Await campaign.\"), Sentence(\"In 2015, we made investments to position Sperry for long-term sustainable growth as a global lifestyle brand.\"), Sentence(\"We launched the Odysseys Await platform this spring.\"), Sentence(\"And we're now seeing data that this investment is beginning to move the needle with the consumer, growing brand awareness, solidifying brand affinity and influencing purchasing decisions.\"), Sentence(\"We also brought the platform to life in a new store design that is currently being rolled out and is producing very strong double-digit comp revenue growth while nearly doubling the penetration of apparel and accessories.\"), Sentence(\"Although Sperry is an established business of significant size today, we believe it is still in the early stages of its lifecycle with incredible growth potential for the company.\"), Sentence(\"And we're excited by the early successes to move beyond its dominant position in the boat shoe category.\"), Sentence(\"Moving to Merrell, the Merrell brand was up 1% on a constant currency basis and remains a leader in the Performance outdoor footwear category.\"), Sentence(\"Its new Performance collections, Capra and All Out, continue to win at retail during the third quarter.\"), Sentence(\"The smaller active Lifestyle category followed a stronger Q2 with a softer Q3.\"), Sentence(\"But the new men's Telluride and women's Ashland collections successfully launched late in the quarter and are performing well this fall.\"), Sentence(\"Increasing brand awareness for Merrell is a critical opportunity, as consumers who know the brand love it.\"), Sentence(\"But today, the brand ranks relatively low in consumer awareness.\"), Sentence(\"This is a significant opportunity.\"), Sentence(\"The new leadership team has developed a new brand platform and product initiatives along with an aggressive go-to-market strategy designed to amplify Merrell in the marketplace and increase awareness.\"), Sentence(\"Merrell plans to support a more robust and compelling product assortment with the launch of the new brand platform, Do What's Natural, and associated demand creation investment.\"), Sentence(\"A planned comprehensive go-to-market strategy will focus on driving results at retail with key retail partnerships.\"), Sentence(\"Partners that signed up to present specific product franchises like the expanded Moab collection as their big story and have committed to critical space on the sales floor and other supporting investments.\"), Sentence(\"The strategy is in place and the partners have lined up to support this growth initiative.\"), Sentence(\"As a company, we have a balanced business model that has consistently delivered earnings in a variety of global macroeconomic environments.\"), Sentence(\"Our strategic advantages within the global marketplace remained clear and compelling.\"), Sentence(\"First, our portfolio of authentic heritage brands provides us with an opportunity to service many different consumer groups across the wide range of product categories and countries.\"), Sentence(\"Second, we also possessed an exceptionally strong operations platform.\"), Sentence(\"Third, our extensive global distribution footprint has been a competitive advantage for us for decades.\"), Sentence(\"And lastly, we have a deep and seasoned global team.\"), Sentence(\"While we expect the near-term global retail environment to remain somewhat challenging, this landscape creates some great opportunities for our brands to expand internationally.\"), Sentence(\"In the short-term, we are especially focused on executing against our business model, which has consistently produced strong cash flow and a high-quality earnings stream to help drive our strategic brand investments.\"), Sentence(\"I'm excited about the opportunities that lie ahead for our family of brands.\"), Sentence(\"With that, I'll now turn the call over to Mike Stornant, our Senior Vice President and Chief Financial Officer, who'll provide additional commentary on our performance in the third quarter, as well as more details regarding our expectations for the balance of the year.\"), Sentence(\"Mike?\"\"), Sentence(\"\"Michael D. Stornant: Thanks, Blake, and thanks to all of you for joining us on the call today.\"), Sentence(\"We are pleased with our earnings performance in the third quarter with adjusted earnings per share of $0.48 per share, in line with our original guidance of $0.47 to $0.49 per share.\"), Sentence(\"Earnings were bolstered by a strong gross margin performance and discipline around discretionary spending which allowed us to increase our marketing investment by approximately 26% and overcome a softer-than-expected revenue performance.\"), Sentence(\"Adjusted revenue was up 0.7% in the quarter after considering FX, store closures, and exiting the Patagonia Footwear business, and reported revenue of $678.9 million was down 4.5% compared to last year.\"), Sentence(\"Third quarter revenue growth was lower than expected, due primarily to several factors that impacted our North American business.\"), Sentence(\"The softness in Q3 revenue can be categorized as follows.\"), Sentence(\"Direct to consumer, predominantly Stride Rite store performance, contributed roughly one-third of the net shortfall.\"), Sentence(\"Footwear retail traffic in the U.S. market was softer in the quarter, and traffic for our stores was also challenged.\"), Sentence(\"Key tactics expected to drive improvements in comp store performance especially for our Stride Rite stores were not as productive as expected.\"), Sentence(\"In addition, efforts to be less promotional within our stores and online put pressure on growth.\"), Sentence(\"Wholesale revenue excluding our DTC channels for Sperry and Merrell contributed roughly one-third of the net shortfall, focused mainly in the North American market.\"), Sentence(\"The remaining softness was experienced in our North American wholesale business across several brands.\"), Sentence(\"During the quarter, retailers became more cautious as the U.S. retail landscape remained promotional, and inventory levels continued to increase across channels.\"), Sentence(\"We believe these factors impacted demand for many of our brands.\"), Sentence(\"We continue to believe that the fundamental strength of our operating model and the disciplined way we run our business gives us a distinct competitive advantage.\"), Sentence(\"Our healthy earnings performance in Q3 is evidence of this.\"), Sentence(\"Let me provide more insight regarding the key actions that helped to deliver our earnings results in the quarter.\"), Sentence(\"Gross margin in Q3 was 40%, slightly better than we forecasted and flat with the prior year, despite 60 basis points of FX headwinds.\"), Sentence(\"Our brands have been very proactive with strategic price increases across various categories and markets to protect or enhance gross margin, many of which were implemented in Q3.\"), Sentence(\"In addition, product costs were managed very effectively, highlighting the operational excellence of what we believe to be our best-in-class product development and supply chain operations.\"), Sentence(\"These actions helped to offset the impact of the stronger U.S. dollar in our non-U.S. markets, a lower contribution from higher margin DTC revenue and other mix shifts across the portfolio.\"), Sentence(\"The company remains very focused on protecting gross margin performance across the business.\"), Sentence(\"Adjusted operating expenses were $191 million, up $4.2 million or 2.2% versus the prior year, including a $3.4 million increase in non-cash pension expense.\"), Sentence(\"This result was meaningfully better than our projections as the business responded quickly to a retail environment that softened during the quarter.\"), Sentence(\"Variable cost declined naturally due to the lower sales volume and discretionary spending was managed effectively.\"), Sentence(\"The company continued to invest in important demand creation initiatives, albeit at a slightly lower level than originally planned.\"), Sentence(\"As mentioned, overall marketing spend was up approximately 26% in the quarter.\"), Sentence(\"Incentive and stock compensation expenses were lower than planned and approximately $4 million lower than last year.\"), Sentence(\"Adjusted operating margin was a very strong 11.9%, up significantly from our expectations entering the quarter.\"), Sentence(\"Net interest expense in the quarter was approximately $9 million or $1 million lower than the prior year, reflecting the year-over-year principal reductions, including year-to-date voluntary principal payments of $58 million made in the first quarter, and a lower interest rate on our term loan driven by our declining leverage ratio.\"), Sentence(\"The adjusted quarterly tax rate of 30.4% was higher than projected and higher than the prior year due mostly to a shift in the jurisdictional mix and the timing of certain discrete items.\"), Sentence(\"The reported tax rate in the quarter was 29%.\"), Sentence(\"In addition to a solid quarterly earnings performance, the company's balance sheet remains very strong.\"), Sentence(\"We ended the quarter with cash and cash equivalents of $196.4 million and net debt of $629 million, down $236 million since Q3 of 2014 and down $544 million since the acquisition of PLG in 2012.\"), Sentence(\"Our current leverage ratio is 2.3 times compared with 4.0 time at closing, and we project full-year adjusted EBITDA, as defined by our credit agreement, to be in the range of $340 million to $350 million.\"), Sentence(\"Third quarter accounts receivable improved by $109.3 million or 22.6%, benefiting from the financing agreement entered into in Q4 of 2014, and from continued improvements in DSO and cash collections.\"), Sentence(\"Inventories were up 6.3% due mostly to lower-than-anticipated sales in the quarter and incremental investments in cold weather product for Sperry in advance of Q4.\"), Sentence(\"We believe the quality of our inventory today is very high, with a healthy aging relative to last year.\"), Sentence(\"We continue to use disciplined tactics to manage inventory levels, which includes adjusting the supply chain inflow where appropriate, maximizing selling opportunities within our own DTC channels, working closely with retailers on future demand planning, and liquidating non-core items due to the traditional closeout channels.\"), Sentence(\"Inventory levels appear to be relatively high across the retail landscape, including traditional closeout channels.\"), Sentence(\"And therefore, we expect that it will take a few quarters to manage inventories down to a normalized level.\"), Sentence(\"As our current inventory position is clean and largely constitutes core styles, we believe our approach is preferable to liquidating otherwise good inventory and overly reduced prices.\"), Sentence(\"During Q3, we took advantage of our healthy credit standing, strong balance sheet and favorable market conditions to amend our senior secured credit facility, which, among other things, extended the term by nearly two years, upsized the revolver capacity to $500 million, and resulted in more favorable pricing.\"), Sentence(\"This amendment is projected to provide us greater capacity as we consider strategic opportunities and more flexibility related to certain restricted payments, including future dividends and share repurchases.\"), Sentence(\"On a year-to-date basis, we repurchased approximately 447,500 shares of the company's stock.\"), Sentence(\"We have just over $187 million remaining under the stock buyback program approved by our Board of Directors in 2014 and plan to continue to look for favorable buyback opportunities over the balance of the year.\"), Sentence(\"Now, let me turn to our 2015 guidance for the fourth quarter and full fiscal year.\"), Sentence(\"During Q3, macroeconomic challenges in international markets persisted, and the U.S. retail market softened.\"), Sentence(\"We believe these conditions will continue in the short-term and the expectations for a strong holiday season remain mixed.\"), Sentence(\"As a result, we are updating our Q4 and full-year revenue and earnings guidance as follows.\"), Sentence(\"Adjusted Q4 revenue is now expected to be flat to down low-single digits compared with Q4 2014, a quarter when we experienced growth of 9.2%.\"), Sentence(\"Reported quarterly revenue will be in line – will be in the range of $750 million to $770 million or down approximately 5% to 7.5%.\"), Sentence(\"Adjusted full-year revenue is now expected to be up low-single digits and reported full-year revenue is now expected to be $2.69 billion to $2.71 billion or down 2% to 2.5%.\"), Sentence(\"We now expect Q4 gross margin to be up slightly despite a 100-basis-point headwind from FX.\"), Sentence(\"Full-year gross margin is expected to be flat with the prior year.\"), Sentence(\"Adjusted Q4 operating expenses are now expected to be down low-single digits compared to last year despite a $5.6 million increase in non-cash pension expense.\"), Sentence(\"For the full year, adjusted operating expenses are expected to be up very low-single digits despite a $16 million increase in non-cash pension expense.\"), Sentence(\"Net interest and other expenses are expected to improve in Q4 by approximately $8 million as a result of lower debt position, lower pricing under the new credit facility, and other benefits.\"), Sentence(\"The full-year adjusted effective tax rate is now expected to be in the range of 26.5% to 27%.\"), Sentence(\"This rate is lower than our previous guidance of approximately 27.5% as a result of a shift in jurisdictional mix of taxable income and some discrete benefits expected to be recognized in the fourth quarter.\"), Sentence(\"Based on all of these factors, Q4 adjusted earnings per share are now expected to be $0.31 to $0.34 per share, an increase of approximately 3% to 13% compared with last year, and full-year adjusted earnings per share is now expected to be $1.44 to $1.47 per share.\"), Sentence(\"I also wanted to provide an update on revenue guidance for Merrell and Sperry.\"), Sentence(\"Given the aforementioned global headwinds and challenging retail environment, we now expect Merrell's constant currency revenue to be flat with last year and Sperry to deliver low-single digit constant currency growth for the full year.\"), Sentence(\"With regards to Merrell, continued strong growth in the Performance category is forecasted to be offset by softness in our active Lifestyle segment along with some specific regional challenges, given the brand's expansive international footprint.\"), Sentence(\"For Sperry, strong growth in boots, vulcanized and active styles, coupled with the steady growth in consumer direct and international are forecasted to be partially offset by softness in the boat category.\"), Sentence(\"I will now provide an update on the go-forward strategy for our brick-and-mortar fleet especially for Stride Rite stores.\"), Sentence(\"Blake spoke to our Stride Rite business and our Strategic Realignment Plan in his prepared remarks.\"), Sentence(\"And now, I will provide some additional color on specific steps we are taking to improve the returns in this important but underperforming segment of the business.\"), Sentence(\"Our Strategic Realignment Plan was initiated in July 2014 and updated during our Q2 earnings call.\"), Sentence(\"In July, we shared an updated plan to ultimately close 175 stores with approximately 120 stores expected to close by the end of 2015.\"), Sentence(\"As a reminder, we shuttered 59 doors in 2014 under this plan.\"), Sentence(\"Based on current store performance and trends and consumer shopping preferences, we now anticipate closing an additional 25 Stride Rite stores, increasing the ultimate closure count from 175 stores to 200 stores across the portfolio.\"), Sentence(\"We are currently reviewing our lease exit strategy and negotiating with our landlords, a process that will continue through the balance of the year.\"), Sentence(\"We still expect to close at least 120 stores under the plan by the end of 2015.\"), Sentence(\"The remaining store closures are planned to happen in 2016 or at a normal lease expiration, and this would be determined based on the outcome of our negotiations.\"), Sentence(\"For Stride Rite, this would leave a go-forward fleet of approximately 125 doors.\"), Sentence(\"This reconstituted fleet is expected to be much more productive and profitable, located in a combination of viable, specialty, and outlet centers across the U.S., and most importantly, in line with the go-forward strategy of the brand.\"), Sentence(\"As a result of incremental cost associated with store closures and further reorganization changes across the portfolio, we now expect reported diluted earnings per share in the range of $1.28 to $1.31 per share for fiscal 2015.\"), Sentence(\"We will provide more details on the Strategic Realignment Plan and associated costs and savings as part of our fourth quarter conference call.\"), Sentence(\"Before we open the call up to take questions, I want to emphasize just a few points.\"), Sentence(\"The leadership team at Wolverine remains incredibly focused on those initiatives and activities that will reenergize growth and allow us to fully leverage our great global brand portfolio.\"), Sentence(\"As we have done in the past, we will continue to operate in a diligent and disciplined manner both in the execution of our business model and the management of our working capital to deliver consistent profit and cash flow for our shareholders.\"), Sentence(\"A key priority for cash will be to fuel organic growth by investing in key initiatives related to omni-channel expansion, international opportunities, product innovation, and further talent acquisition.\"), Sentence(\"As always, we planned to continue to carefully evaluate other opportunities including share repurchases and strategic acquisitions.\"), Sentence(\"Thanks for your time this morning.\"), Sentence(\"We will now turn the call back over to the operator.\"), Sentence(\"Operator?\"\"), Sentence(\"\"Blake W. Krueger: Yeah.\"), Sentence(\"In constant currency, I would say our International business overall did very well in the quarter.\"), Sentence(\"The two regions that performed best were Latin America.\"), Sentence(\"So it was nice to see kind of a spring back from some trends we'd seen in Latin America over the last couple of quarters.\"), Sentence(\"Asia Pacific, certainly, as a percentage growth, was our number one region for growth.\"), Sentence(\"Really, Europe and U.S. were somewhat more challenged markets in the quarter.\"), Sentence(\"So, if you're looking at it from a quarter standpoint, International Group certainly met or exceeded expectations with the best performance by far in Latin America and Asia Pacific.\"\"), Sentence(\"\"Michael D. Stornant: Yeah.\"), Sentence(\"They were both up over 20% in the quarter kind of as expected.\"), Sentence(\"And we talked a lot about some of the challenges we had in the EMEA region going into the quarter.\"), Sentence(\"In our last call, we talked about challenges for Russia and Italy and some of the markets in the EMEA region.\"), Sentence(\"So, it's fairly flat in the EMEA, but the other two regions were really strong.\"\"), Sentence(\"\"Blake W. Krueger: Yeah.\"), Sentence(\"I mean, really, Keds did not anniversary.\"), Sentence(\"They had a pretty – a significant transaction last year in Q3 with one retailer decided for a variety of reasons not to anniversary that this year.\"), Sentence(\"When you take away that one – basically, that one transaction, Keds this quarter would have been up double digits again.\"), Sentence(\"So, our expectations for Keds' future growth is unabated at this point.\"\"), Sentence(\"'Blake W. Krueger: And that was expected, too, Chad.\"), Sentence(\"That was not a surprise.'\"), Sentence(\"\"Blake W. Krueger: Yeah.\"), Sentence(\"I would – I think, Erinn, you have to remember about half our pairs are sold in international markets.\"), Sentence(\"But we can certainly focus on the U.S. market.\"), Sentence(\"I think retailers right now and consumers, to a certain extent, are buying closer to need.\"), Sentence(\"They're taking a conservative approach coming off the back-to-school season.\"), Sentence(\"We've all seen the numbers from the retail federation as to what they expect the holiday season, which is a bit softer than what we experienced last year.\"), Sentence(\"So, I think retailers and consumers are buying closer to need.\"), Sentence(\"We're certainly going to have the inventory and core styles to satisfy that.\"), Sentence(\"As far as channels are concerned, it's still a little bit early to get a read on that.\"), Sentence(\"Certainly, we know that the more price sensitive, lower distribution has done well over the last couple of years.\"), Sentence(\"With respect to the promotional environment, I believe it's going to be very promotional this fall.\"), Sentence(\"I think if this weather pattern continues a little bit, we're already seeing some increased promotions across the industry.\"), Sentence(\"We think Black Friday is going to start substantially earlier than Black Friday, for example.\"), Sentence(\"So, it's just the environment we find it in right now.\"), Sentence(\"Clearly, though, if you're a brand or a retailer that is out there with fresh product, you're going to do well at just about any price.\"), Sentence(\"So, it's interesting across our business.\"), Sentence(\"Some of our most expensive product, Wolverine 1000 Mile, Sperry Gold Cup, some of our more premium priced product continues to sell through very well and register with the consumer.\"), Sentence(\"So it's a little early yet.\"), Sentence(\"I think the mid tier department stores in the U.S. will probably be a little bit more promotional than they were last year in this environment.\"\"), Sentence(\"\"Michael D. Stornant: Yeah.\"), Sentence(\"Just to add a couple things, Erinn, to that point.\"), Sentence(\"A good example for Merrell is how much success they had in the third quarter with some of that premium distribution.\"), Sentence(\"That's really for the really strong category form especially in the U.S. that your Performance product was up almost 5% in Q3.\"), Sentence(\"So there's some interesting, interesting signs there in terms of how the market is working.\"), Sentence(\"In terms of the way we developed our revenue forecast for the quarter, Q4 is typically a quarter where we'll see about a third of the orders come through as at once or reorders, the sort of the nature of our business during that quarter.\"), Sentence(\"Q2 and Q4 are the quarters where we see more of that activity.\"), Sentence(\"So we're still assuming that we obviously have the benefit now of three full quarters of order intake and everything else to kind of use as a barometer for what we're projecting into Q4.\"), Sentence(\"And so we're being – I'll say we're being properly realistic about what we expect in Q4.\"), Sentence(\"And that's obviously one of the reasons why you see the revenue guidance coming down to the level that it is.\"), Sentence(\"So we've got brands that are winning.\"), Sentence(\"We've got several brands that are planning really meaningful growth in the fourth quarter based on the demand they're seeing in their business.\"), Sentence(\"Saucony is one of those brands that will see double-digit growth in Q4 and we've got some of our other brands in the mid to high single digit range as well.\"), Sentence(\"But our order assumptions and our revenue projections are fairly conservative at this point.\"\"), Sentence(\"\"Michael D. Stornant: We're still – we've got – we're up about 6.5% right now.\"), Sentence(\"It's possible based on some of the trends and, again, it depends on brand.\"), Sentence(\"I mentioned our boot brands.\"), Sentence(\"We expect the boot brands are going to get back to normal by the end of the quarter.\"), Sentence(\"So, we're projecting something similar in the high single digits.\"), Sentence(\"But it could be – very well be slightly better than that if we get the right weather and other conditions help us out.\"\"), Sentence(\"\"Michael D. Stornant: Again, similar to Q3, we're going to see some of those variable costs flow through.\"), Sentence(\"We've got benefits in several different areas.\"), Sentence(\"And some of the benefit that we got in Q3 related to some incentive comp adjustments, those will flow through to a much smaller extent in Q4 as well.\"), Sentence(\"There's not really one focused area.\"), Sentence(\"Our marketing spend in the fourth quarter is going to be flat with the prior year at this point based on our projection.\"), Sentence(\"So – and as Blake said, we still have a little more to spend on our demand creation investment.\"), Sentence(\"So, it comes from a variety of different areas that, frankly, we look at on a quarter-by-quarter, period-by-period basis.\"), Sentence(\"Christian Roland Buss - Credit Suisse Securities (USA) LLC (Broker) That's helpful.\"), Sentence(\"Thanks.\"), Sentence(\"And I was wondering if you could talk a little bit about the level of visibility that you have right now?\"), Sentence(\"You mentioned some challenges with the open-to-buy.\"), Sentence(\"In the past, you've talked about the fourth quarter being a heavy reorder business.\"), Sentence(\"Could you talk a little bit about what's embedded in the expectations and in your visibility?\"\"), Sentence(\"\"Mitch Kummetz: Yeah.\"), Sentence(\"Thanks.\"), Sentence(\"I just want to follow up on Steve's question because, Blake, in your prepared remarks, you talked about these factors persisting into early 2016 and you answered it there.\"), Sentence(\"So, what are the factors that you expect to persist?\"), Sentence(\"Is it just weak traffic trends?\"), Sentence(\"Is it high promotional levels?\"), Sentence(\"Is it conservative on the part of retailers?\"), Sentence(\"And again, does that manifest itself in just – especially as you're thinking about the early part of 2016, does that manifest itself by retailers maybe revisiting their spring order books and maybe haircutting those or is there just underlying assumption that in Q1, you would still expect to pick up normally some re-orders on fall holiday and now, you probably think less of that will come through?\"), Sentence(\"Just based on those factors, could you just maybe elaborate a little bit more on that?\"\"), Sentence(\"\"Blake W. Krueger: Yeah.\"), Sentence(\"I mean, we expect all three of those brands to continue at that rate.\"), Sentence(\"I mean, I would say, Sperry doesn't have as large as international business as Hush Puppies or Merrell or even Saucony, but we expect it to certainly continue at that rate into the future.\"\"), Sentence(\"\"Samuel Marc Poser: Good morning.\"), Sentence(\"Thank you for taking my questions.\"), Sentence(\"I wanted to know, could you give us the EBIT dollars by segment, number one?\"), Sentence(\"And to follow up on Mitch's question, what's the interest expense and the other expenses are expected for the fourth quarter in actual dollars?\"), Sentence(\"Could you just give us an idea of where that is or the range, please?\"\"), Sentence(\"'Samuel Marc Poser: The interest expense and the other expenses in dollars expected in Q4.']\")]\n"
          ]
        }
      ]
    },
    {
      "cell_type": "code",
      "source": [
        "negative = 0\n",
        "neutral = 0 \n",
        "positive = 0\n",
        "\n",
        "all_sentences = []\n",
        "\n",
        "for sentence in sentiment_Call.sentences:\n",
        "  if sentence.sentiment.polarity < 0:\n",
        "    negative += 1\n",
        "  if sentence.sentiment.polarity > 0: \n",
        "    positive += 1\n",
        "  else: \n",
        "    neutral += 1 \n",
        "\n",
        "  all_sentences.append(sentence.sentiment.polarity)\n",
        "\n",
        "  all_sentiment = np.array(all_sentences)\n",
        "  print(all_sentiment.mean())\n",
        "\n",
        "print(\"pos\" + str(positive))\n",
        "print(\"neg\" + str(negative))\n",
        "print(\"neu\" + str(neutral))\n",
        "\n",
        "\n",
        "strong_polarity_count = 0\n",
        "weak_polarity_count = 0\n",
        "\n",
        "for sentence in sentiment_Call.sentences:\n",
        "  if sentence.sentiment.polarity > 0.8:\n",
        "    strong_polarity_count+=1\n",
        "    print(sentence)\n",
        "  if sentence.sentiment.polarity < -0.2:\n",
        "    weak_polarity_count\n",
        "    print(sentence)\n"
      ],
      "metadata": {
        "colab": {
          "base_uri": "https://localhost:8080/"
        },
        "id": "Yn-PUMxtwGXC",
        "outputId": "7a4da817-e935-403f-b01e-9a35be65ee05"
      },
      "execution_count": 106,
      "outputs": [
        {
          "output_type": "stream",
          "name": "stdout",
          "text": [
            "0.0\n",
            "0.14333333333333334\n",
            "0.20565656565656565\n",
            "0.15424242424242424\n",
            "0.16884848484848486\n",
            "0.13792929292929293\n",
            "0.13354978354978356\n",
            "0.1793560606060606\n",
            "0.17584175084175083\n",
            "0.17409090909090907\n",
            "0.24917355371900826\n",
            "0.2284090909090909\n",
            "0.28006993006993003\n",
            "0.26006493506493505\n",
            "0.25106060606060604\n",
            "0.23536931818181817\n",
            "0.22887700534759356\n",
            "0.21199494949494946\n",
            "0.20039872408293458\n",
            "0.1912121212121212\n",
            "0.18360590027256693\n",
            "0.18344199571472297\n",
            "0.1781836480749524\n",
            "0.16686272446689113\n",
            "0.1676882154882155\n",
            "0.1621467883967884\n",
            "0.1593159549641031\n",
            "0.1566022899058613\n",
            "0.15982290059876264\n",
            "0.1511621372454706\n",
            "0.14386658443110056\n",
            "0.14366762866762867\n",
            "0.13476860961709444\n",
            "0.12590286619698382\n",
            "0.12230564144849858\n",
            "0.11890826251937361\n",
            "0.11907290407290405\n",
            "0.11725519607098552\n",
            "0.12151360984694315\n",
            "0.1184757696007696\n",
            "0.11558611668367766\n",
            "0.11333009803247898\n",
            "0.10982242133404924\n",
            "0.1152810026673663\n",
            "0.11827475816364705\n",
            "0.11461661124704603\n",
            "0.11483753441200249\n",
            "0.11070897466730799\n",
            "0.10731582098929036\n",
            "0.10866950456950455\n",
            "0.11074041064237142\n",
            "0.10837040274540273\n",
            "0.10469345294816992\n",
            "0.1025232038195001\n",
            "0.09702278193187283\n",
            "0.09529023225451796\n",
            "0.09741964338455567\n",
            "0.10263654608482195\n",
            "0.10089694360880802\n",
            "0.10338199454866122\n",
            "0.09861343726097825\n",
            "0.10401214526214528\n",
            "0.1092394657077197\n",
            "0.11065759905603656\n",
            "0.10895517445517446\n",
            "0.10957706575130818\n",
            "0.10980725879979612\n",
            "0.10819244617038735\n",
            "0.10662443970414985\n",
            "0.105101233422662\n",
            "0.11066318788149775\n",
            "0.10912619916092137\n",
            "0.1076313197203608\n",
            "0.10860927485927484\n",
            "0.10924448452781785\n",
            "0.11438600446824129\n",
            "0.11614722518943296\n",
            "0.11626072230238894\n",
            "0.11529539670362453\n",
            "0.11438991853054352\n",
            "0.11606411706720347\n",
            "0.11541089612735954\n",
            "0.11683164838285319\n",
            "0.11551520018781922\n",
            "0.11474443312678606\n",
            "0.11515438157880017\n",
            "0.11478862240356492\n",
            "0.11453940104508287\n",
            "0.11325244148277856\n",
            "0.11153111805889585\n",
            "0.11244606914249773\n",
            "0.11061996452621455\n",
            "0.11037136275711547\n",
            "0.10919719932352913\n",
            "0.10804775512012356\n",
            "0.10796392433762225\n",
            "0.10685089418981171\n",
            "0.10525037486134424\n",
            "0.10334548891998385\n",
            "0.10337751022126021\n",
            "0.10565430054910252\n",
            "0.10505031347555857\n",
            "pos60\n",
            "neg21\n",
            "neu42\n",
            "In closing, I will note that we were honored to be named to Fortune magazine’s list of the 100 best companies to work for.\n",
            "This recognition speaks to our culture and our incredible people and we believe it should continue to support our ability to attract and retain talent.\n"
          ]
        }
      ]
    },
    {
      "cell_type": "code",
      "source": [
        "print(all_sentiment.mean())\n",
        "print(\"pos\" + str(positive))\n",
        "print(\"neg\" + str(negative))\n",
        "print(\"neu\" + str(neutral))\n"
      ],
      "metadata": {
        "colab": {
          "base_uri": "https://localhost:8080/"
        },
        "id": "DswW1bjuVt9L",
        "outputId": "762c3248-9b77-465f-bc00-1523c04996e2"
      },
      "execution_count": 89,
      "outputs": [
        {
          "output_type": "stream",
          "name": "stdout",
          "text": [
            "0.10933849594447421\n",
            "pos35\n",
            "neg11\n",
            "neu34\n"
          ]
        }
      ]
    },
    {
      "cell_type": "code",
      "source": [
        "from nltk.corpus import stopwords\n",
        "from nltk.tokenize import word_tokenize\n",
        "from nltk.stem import WordNetLemmatizer\n",
        "import re"
      ],
      "metadata": {
        "id": "Ajfr3d5LW9ea"
      },
      "execution_count": 90,
      "outputs": []
    },
    {
      "cell_type": "code",
      "source": [
        "import nltk\n",
        "nltk.download('stopwords')\n",
        "nltk.download('wordnet')"
      ],
      "metadata": {
        "colab": {
          "base_uri": "https://localhost:8080/"
        },
        "id": "hw6HPaEMYUft",
        "outputId": "a60e8f2b-73f9-497d-c9eb-a7b1a951ac9c"
      },
      "execution_count": 91,
      "outputs": [
        {
          "output_type": "stream",
          "name": "stdout",
          "text": [
            "[nltk_data] Downloading package stopwords to /root/nltk_data...\n",
            "[nltk_data]   Package stopwords is already up-to-date!\n",
            "[nltk_data] Downloading package wordnet to /root/nltk_data...\n",
            "[nltk_data]   Package wordnet is already up-to-date!\n"
          ]
        },
        {
          "output_type": "execute_result",
          "data": {
            "text/plain": [
              "True"
            ]
          },
          "metadata": {},
          "execution_count": 91
        }
      ]
    },
    {
      "cell_type": "code",
      "source": [
        "lemma = WordNetLemmatizer()\n",
        "stop_words = stopwords.words('english')"
      ],
      "metadata": {
        "id": "TD9L8THxW-ab"
      },
      "execution_count": 92,
      "outputs": []
    },
    {
      "cell_type": "code",
      "source": [
        "def text_prep(x):\n",
        "     corp = str(x).lower() \n",
        "     corp = re.sub('[^a-zA-Z]+',' ', corp).strip() \n",
        "     tokens = word_tokenize(corp)\n",
        "     words = [t for t in tokens if t not in stop_words]\n",
        "     lemmatize = [lemma.lemmatize(w) for w in words]\n",
        "    \n",
        "     return lemmatize"
      ],
      "metadata": {
        "id": "gT4w8g-EXGOt"
      },
      "execution_count": 93,
      "outputs": []
    },
    {
      "cell_type": "code",
      "source": [
        "text_prep(sentiment_Call.sentences)"
      ],
      "metadata": {
        "id": "sxtBErNKXM3H"
      },
      "execution_count": null,
      "outputs": []
    },
    {
      "cell_type": "code",
      "source": [
        "nltk.download('vader_lexicon')\n",
        "from nltk.sentiment.vader import SentimentIntensityAnalyzer\n"
      ],
      "metadata": {
        "colab": {
          "base_uri": "https://localhost:8080/"
        },
        "id": "jF-Xj1C6XgC5",
        "outputId": "8e250864-5577-48ec-8a48-085428e918c1"
      },
      "execution_count": 94,
      "outputs": [
        {
          "output_type": "stream",
          "name": "stdout",
          "text": [
            "[nltk_data] Downloading package vader_lexicon to /root/nltk_data...\n",
            "[nltk_data]   Package vader_lexicon is already up-to-date!\n"
          ]
        }
      ]
    },
    {
      "cell_type": "code",
      "source": [
        "sent = SentimentIntensityAnalyzer()"
      ],
      "metadata": {
        "id": "Bg-KQSyhY0gA"
      },
      "execution_count": 75,
      "outputs": []
    },
    {
      "cell_type": "code",
      "source": [
        "negative = 0\n",
        "neutral = 0 \n",
        "positive = 0\n",
        "\n",
        "all_sentences = []\n",
        "\n",
        "for sentence in sentiment_Call.sentences:\n",
        "  if sentence.sentiment.polarity < 0:\n",
        "    negative += 1\n",
        "  if sentence.sentiment.polarity > 0: \n",
        "    positive += 1\n",
        "  else: \n",
        "    neutral += 1 \n",
        "\n",
        "  all_sentences.append(sentence.sentiment.polarity)\n",
        "\n",
        "  all_sentiment = np.array(all_sentences)\n",
        "  print(all_sentiment.mean())\n",
        "\n",
        "print(\"pos\" + str(positive))\n",
        "print(\"neg\" + str(negative))\n",
        "print(\"neu\" + str(neutral))\n",
        "\n",
        "\n",
        "strong_polarity_count = 0\n",
        "weak_polarity_count = 0\n",
        "\n",
        "for sentence in sentiment_Call.sentences:\n",
        "  if sentence.sentiment.polarity > 0.8:\n",
        "    strong_polarity_count+=1\n",
        "    print(sentence)\n",
        "  if sentence.sentiment.polarity < -0.2:\n",
        "    weak_polarity_count+=1\n",
        "    print(sentence)\n",
        "\n",
        "print(strong_polarity_count)\n",
        "print(weak_polarity_count)\n",
        "print(all_sentiment.mean())\n"
      ],
      "metadata": {
        "colab": {
          "base_uri": "https://localhost:8080/"
        },
        "id": "gcrBLxtaY8X-",
        "outputId": "ca078bb4-0a10-4d8c-ee2f-2ab9a10893ca"
      },
      "execution_count": 108,
      "outputs": [
        {
          "output_type": "stream",
          "name": "stdout",
          "text": [
            "0.0\n",
            "0.14333333333333334\n",
            "0.20565656565656565\n",
            "0.15424242424242424\n",
            "0.16884848484848486\n",
            "0.13792929292929293\n",
            "0.13354978354978356\n",
            "0.1793560606060606\n",
            "0.17584175084175083\n",
            "0.17409090909090907\n",
            "0.24917355371900826\n",
            "0.2284090909090909\n",
            "0.28006993006993003\n",
            "0.26006493506493505\n",
            "0.25106060606060604\n",
            "0.23536931818181817\n",
            "0.22887700534759356\n",
            "0.21199494949494946\n",
            "0.20039872408293458\n",
            "0.1912121212121212\n",
            "0.18360590027256693\n",
            "0.18344199571472297\n",
            "0.1781836480749524\n",
            "0.16686272446689113\n",
            "0.1676882154882155\n",
            "0.1621467883967884\n",
            "0.1593159549641031\n",
            "0.1566022899058613\n",
            "0.15982290059876264\n",
            "0.1511621372454706\n",
            "0.14386658443110056\n",
            "0.14366762866762867\n",
            "0.13476860961709444\n",
            "0.12590286619698382\n",
            "0.12230564144849858\n",
            "0.11890826251937361\n",
            "0.11907290407290405\n",
            "0.11725519607098552\n",
            "0.12151360984694315\n",
            "0.1184757696007696\n",
            "0.11558611668367766\n",
            "0.11333009803247898\n",
            "0.10982242133404924\n",
            "0.1152810026673663\n",
            "0.11827475816364705\n",
            "0.11461661124704603\n",
            "0.11483753441200249\n",
            "0.11070897466730799\n",
            "0.10731582098929036\n",
            "0.10866950456950455\n",
            "0.11074041064237142\n",
            "0.10837040274540273\n",
            "0.10469345294816992\n",
            "0.1025232038195001\n",
            "0.09702278193187283\n",
            "0.09529023225451796\n",
            "0.09741964338455567\n",
            "0.10263654608482195\n",
            "0.10089694360880802\n",
            "0.10338199454866122\n",
            "0.09861343726097825\n",
            "0.10401214526214528\n",
            "0.1092394657077197\n",
            "0.11065759905603656\n",
            "0.10895517445517446\n",
            "0.10957706575130818\n",
            "0.10980725879979612\n",
            "0.10819244617038735\n",
            "0.10662443970414985\n",
            "0.105101233422662\n",
            "0.11066318788149775\n",
            "0.10912619916092137\n",
            "0.1076313197203608\n",
            "0.10860927485927484\n",
            "0.10924448452781785\n",
            "0.11438600446824129\n",
            "0.11614722518943296\n",
            "0.11626072230238894\n",
            "0.11529539670362453\n",
            "0.11438991853054352\n",
            "0.11606411706720347\n",
            "0.11541089612735954\n",
            "0.11683164838285319\n",
            "0.11551520018781922\n",
            "0.11474443312678606\n",
            "0.11515438157880017\n",
            "0.11478862240356492\n",
            "0.11453940104508287\n",
            "0.11325244148277856\n",
            "0.11153111805889585\n",
            "0.11244606914249773\n",
            "0.11061996452621455\n",
            "0.11037136275711547\n",
            "0.10919719932352913\n",
            "0.10804775512012356\n",
            "0.10796392433762225\n",
            "0.10685089418981171\n",
            "0.10525037486134424\n",
            "0.10334548891998385\n",
            "0.10337751022126021\n",
            "0.10565430054910252\n",
            "0.10505031347555857\n",
            "pos60\n",
            "neg21\n",
            "neu42\n",
            "In closing, I will note that we were honored to be named to Fortune magazine’s list of the 100 best companies to work for.\n",
            "This recognition speaks to our culture and our incredible people and we believe it should continue to support our ability to attract and retain talent.\n",
            "2\n",
            "0\n",
            "0.10505031347555857\n"
          ]
        }
      ]
    }
  ]
}